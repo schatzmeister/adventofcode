{
 "cells": [
  {
   "cell_type": "markdown",
   "metadata": {},
   "source": [
    "# Advent of Code 2020 in APL\n",
    "\n",
    "Every day is comprised of three cells:\n",
    "1. read input file and parse contents\n",
    "2. solve the first problem\n",
    "3. solve the second problem\n",
    "\n",
    "## Day 1"
   ]
  },
  {
   "cell_type": "code",
   "execution_count": 2,
   "metadata": {},
   "outputs": [],
   "source": [
    "⍝ Read file linewise, parse every line into a number\n",
    "input1 ← ⍎¨⊃⎕NGET 'day1.txt' 1"
   ]
  },
  {
   "cell_type": "code",
   "execution_count": 3,
   "metadata": {},
   "outputs": [
    {
     "data": {
      "text/html": [
       "<span style=\"white-space:pre; font-family: monospace\">436404\n",
       "</span>"
      ]
     },
     "execution_count": 3,
     "metadata": {},
     "output_type": "execute_result"
    }
   ],
   "source": [
    "day1_1 ← {×/⍵[⊃⍸2020⍷⍵∘.+⍵]}\n",
    "day1_1 input1"
   ]
  },
  {
   "cell_type": "code",
   "execution_count": 4,
   "metadata": {},
   "outputs": [
    {
     "data": {
      "text/html": [
       "<span style=\"white-space:pre; font-family: monospace\">274879808\n",
       "</span>"
      ]
     },
     "execution_count": 4,
     "metadata": {},
     "output_type": "execute_result"
    }
   ],
   "source": [
    "day1_2 ← {×/⍵[⊃⍸2020⍷⍵(∘.+⍣2)⍵]}\n",
    "day1_2 input1"
   ]
  },
  {
   "cell_type": "markdown",
   "metadata": {},
   "source": [
    "## Day 2"
   ]
  },
  {
   "cell_type": "code",
   "execution_count": 5,
   "metadata": {},
   "outputs": [],
   "source": [
    "input2 ← ⊃⎕NGET 'day2.txt' 1\n",
    "⍝ '1-2 l: phrase' ~> (1 2 l phrase)\n",
    "parsed2 ← {' '(≠⊆⊢)('-|:' ⎕R ' ')⍵}¨ input2"
   ]
  },
  {
   "cell_type": "code",
   "execution_count": 6,
   "metadata": {},
   "outputs": [
    {
     "data": {
      "text/html": [
       "<span style=\"white-space:pre; font-family: monospace\">434\n",
       "</span>"
      ]
     },
     "execution_count": 6,
     "metadata": {},
     "output_type": "execute_result"
    }
   ],
   "source": [
    "⍝ Count occurrences of ⍵[3] in ⍵[4]:\n",
    "occ ← {+/⊃⍵[3]=⍵[4]}\n",
    "⍝ Check if ⍵[1] ≤ ⍺ ≤ ⍵[2]\n",
    "between ← {((⍎⊃⍵[1])≤⍺)∧((⍎⊃⍵[2])≥⍺)}\n",
    "⍝ Count correct passphrases:\n",
    "day2_1 ← {+/(occ between ⊣)¨⍵}\n",
    "day2_1 parsed2"
   ]
  },
  {
   "cell_type": "code",
   "execution_count": 7,
   "metadata": {},
   "outputs": [
    {
     "data": {
      "text/html": [
       "<span style=\"white-space:pre; font-family: monospace\">509\n",
       "</span>"
      ]
     },
     "execution_count": 7,
     "metadata": {},
     "output_type": "execute_result"
    }
   ],
   "source": [
    "day2_2 ← {≠/ (⊃⍵[3]) = (⊃⍵[4])[⍎¨⍵[1 2]]} ⍝ Check if the phrase is correct\n",
    "+/day2_2¨ parsed2"
   ]
  },
  {
   "cell_type": "markdown",
   "metadata": {},
   "source": [
    "## Day 3"
   ]
  },
  {
   "cell_type": "code",
   "execution_count": 8,
   "metadata": {},
   "outputs": [],
   "source": [
    "input3 ← ⎕NGET 'day3.txt' 1\n",
    "parsed3 ← ((≢,(≢⊃))⍴∊)⊃input3 ⍝ Parse input3 into a matrix of correct dimensions"
   ]
  },
  {
   "cell_type": "code",
   "execution_count": 9,
   "metadata": {
    "scrolled": true
   },
   "outputs": [
    {
     "data": {
      "text/html": [
       "<span style=\"white-space:pre; font-family: monospace\">184\n",
       "</span>"
      ]
     },
     "execution_count": 9,
     "metadata": {},
     "output_type": "execute_result"
    }
   ],
   "source": [
    "day3_1 ← {⊃+⌿ (3×¯1+⍳≢⍵) ⌽ '#'=⍵}\n",
    "day3_1 parsed3"
   ]
  },
  {
   "cell_type": "code",
   "execution_count": 10,
   "metadata": {},
   "outputs": [
    {
     "data": {
      "text/html": [
       "<span style=\"white-space:pre; font-family: monospace\">2431272960\n",
       "</span>"
      ]
     },
     "execution_count": 10,
     "metadata": {},
     "output_type": "execute_result"
    }
   ],
   "source": [
    "⍝ The logic is mostly the same, but with variable sloping\n",
    "day3_2 ← {⊃+⌿ (⍺×¯1+⍳≢⍵) ⌽ '#'=⍵}\n",
    "⍝ Special case ⍺=÷n: take every n-th line and shift the rows 1-wise \n",
    "preproc ← {((≢⍵)⍴1,((⍺-1)⍴0))⌿⍵}\n",
    "⍝ Format number in non-exponential notation\n",
    "'I10' ⎕FMT (1 day3_2 2 preproc parsed3)×{1 3 5 7 ×.day3_2 ⍵} ⊂parsed3"
   ]
  },
  {
   "cell_type": "markdown",
   "metadata": {},
   "source": [
    "## Day 4\n",
    "\n",
    "For problem one, if input is the file as one string, we want something like the following (in a Rusty syntax):\n",
    "    1. let requiredFields = ['byr' 'iyr' 'eyr' 'hgt' 'hcl' 'ecl' 'pid'];\n",
    "    2. let solution = input : String\n",
    "        // Parsing part:\n",
    "        .splitAt emptyLine : List String\n",
    "        .map(|xs| xs.joinWith(' ')) : List String\n",
    "        .map(words) : List (List String)\n",
    "        .map∘map(|xs| xs.splitAt(':')) : List (List (String, String))\n",
    "        // Logic part:\n",
    "        .map∘map(first) : List (List String)\n",
    "        .map(|xs| isSubset requiredFields xs) : List Bool\n",
    "        .count(True);"
   ]
  },
  {
   "cell_type": "code",
   "execution_count": 11,
   "metadata": {},
   "outputs": [],
   "source": [
    "input4 ← ⊃⎕NGET 'day4.txt' 0\n",
    "nl ← (⎕UCS 10)\n",
    "⍝ transform string into each line containing one key:value pair and a '-' between records\n",
    "normalize ← {('^$'⎕R'-') (' ' ⎕R '\\n') ⍵}\n",
    "splitAt ← {⍺(≠⊆⊢)⍵}\n",
    "⍝ Like splitAt, but checks for ∊ instead of =\n",
    "⍝ Must start with a divider, else the first partition element is lost. :(\n",
    "partitionAt ← {1↓¨⍺(∊¨⊂⊢)⍵}\n",
    "⍝ process key:value pairs\n",
    "entry ← {':' splitAt¨ ⍵}\n",
    "parsed4 ← entry¨ '-' partitionAt nl splitAt normalize nl, input4"
   ]
  },
  {
   "cell_type": "code",
   "execution_count": 153,
   "metadata": {},
   "outputs": [
    {
     "data": {
      "text/html": [
       "<span style=\"white-space:pre; font-family: monospace\">242\n",
       "</span>"
      ]
     },
     "execution_count": 153,
     "metadata": {},
     "output_type": "execute_result"
    }
   ],
   "source": [
    "day4_1 ← {7 = ≢'byr' 'iyr' 'eyr' 'hgt' 'hcl' 'ecl' 'pid' ∩ ⊃¨⍵}\n",
    "+/ day4_1¨ parsed4"
   ]
  },
  {
   "cell_type": "markdown",
   "metadata": {},
   "source": [
    "For problem two, dictionaries would be really helpful … Well it works, somehow."
   ]
  },
  {
   "cell_type": "code",
   "execution_count": 211,
   "metadata": {},
   "outputs": [
    {
     "data": {
      "text/html": [
       "<span style=\"white-space:pre; font-family: monospace\">186\n",
       "</span>"
      ]
     },
     "execution_count": 211,
     "metadata": {},
     "output_type": "execute_result"
    }
   ],
   "source": [
    "⍝ Check all conditions for every field\n",
    "⍝ Multiline definitions seem not to work. :(\n",
    "chbyr ← {(⍎⊃⍵) between '1920' '2002'}\n",
    "checl ← {(⊂⍵) ∊ 'amb' 'blu' 'brn' 'gry' 'grn' 'hzl' 'oth'}\n",
    "cheyr ← {(⍎⊃⍵) between '2020' '2030'}\n",
    "chhcl ← {'.'∊('^#[0-9a-f]{6}$' ⎕R'.') ⊃⍵} ⍝ Terrible hack, but that’s how it is\n",
    "chhgt ← {(≢'^(((59|6[0-9]|7[0-6])in)|(1([5-8]\\d|9[0-3])cm))$' ⎕S 1) ⍵}\n",
    "chiyr ← {(⍎⊃⍵) between '2010' '2020'}\n",
    "chpid ← {9=+/('^\\d{9}$' ⎕S 1) ⍵}\n",
    "checkall←{∧/(chbyr ⍵[1]) (checl ⊃⍵[2]) (cheyr ⍵[3]) (chhcl ⍵[4]) (chhgt ⍵[5]) (chiyr ⍵[6]) (chpid ⍵[7])}\n",
    "\n",
    "reduceFields ← {7=≢⍵: (2⊃¨⍵)[⍋⊃¨⍵] ⋄ 8=≢⍵: (1 0, 6⍴1) / (2⊃¨⍵)[⍋⊃¨⍵]}\n",
    "+/ (checkall∘reduceFields)¨ {(day4_1¨ ⍵)/⍵} parsed4"
   ]
  },
  {
   "cell_type": "markdown",
   "metadata": {},
   "source": [
    "## Day 5\n",
    "\n",
    "For problem one, there are three steps (not necessarily in that order):\n",
    "1. translate a code into a (row, seat) number pair\n",
    "2. sort all entries/take the maximum\n",
    "3. calculate the seat id ← seat + 8 × row\n",
    "\n",
    "The most resource efficient would probably be 2–1–3, because then only one code has to be translated, but it should not make too much of a difference, since all three functions have to be implementet no matter what.\n",
    "\n",
    "### Translating\n",
    "\n",
    "```\n",
    "         F         B          F          B          B          F          F\n",
    "(0, 127) → (0, 63) → (32, 63) → (32, 47) → (40, 47) → (44, 47) → (44, 45) → (44, 44)\n",
    "(0, 2*7) → (+0, -2*6) → (+2*5, -0) → (+0, -2*4) → ...\n",
    "```"
   ]
  },
  {
   "cell_type": "code",
   "execution_count": 253,
   "metadata": {},
   "outputs": [],
   "source": [
    "input5 ← ⊃⎕NGET 'day5.txt' 1"
   ]
  },
  {
   "cell_type": "code",
   "execution_count": 289,
   "metadata": {},
   "outputs": [
    {
     "data": {
      "text/html": [
       "<span style=\"white-space:pre; font-family: monospace\">838\n",
       "</span>"
      ]
     },
     "execution_count": 289,
     "metadata": {},
     "output_type": "execute_result"
    }
   ],
   "source": [
    "translate ← +/{(2*¯1+(⌽⍳7),⌽⍳3)×⍺=⍵} ⍝ Count using B for rows, R for seats\n",
    "seats ← ('B'∘translate,'R'∘translate)¨ input5\n",
    "day5_1 ← {+/8 1×⍵}\n",
    "⌈/day5_1¨ seats"
   ]
  },
  {
   "cell_type": "code",
   "execution_count": 324,
   "metadata": {},
   "outputs": [
    {
     "data": {
      "text/html": [
       "<span style=\"white-space:pre; font-family: monospace\">714\n",
       "</span>"
      ]
     },
     "execution_count": 324,
     "metadata": {},
     "output_type": "execute_result"
    }
   ],
   "source": [
    "sortedSeats ← {⍵[⍒⍵]} day5_1¨ seats\n",
    "day5_2 ← {¯1+⍵[⍸1≠-⌿¯1↓[2](2, ≢⍵)⍴⍵, 1⌽⍵]} ⍝ subtract neighbors, find difference greater 1\n",
    "day5_2 sortedSeats"
   ]
  },
  {
   "cell_type": "markdown",
   "metadata": {},
   "source": [
    "## Day 6"
   ]
  },
  {
   "cell_type": "code",
   "execution_count": 357,
   "metadata": {},
   "outputs": [],
   "source": [
    "input6 ← ⊃⎕NGET 'day6.txt' 0\n",
    "parsed6 ← '-' partitionAt normalize nl, input6 ⍝ Reuse from day 4"
   ]
  },
  {
   "cell_type": "code",
   "execution_count": 360,
   "metadata": {},
   "outputs": [
    {
     "data": {
      "text/html": [
       "<span style=\"white-space:pre; font-family: monospace\">6161\n",
       "</span>"
      ]
     },
     "execution_count": 360,
     "metadata": {},
     "output_type": "execute_result"
    }
   ],
   "source": [
    "day6_1 ← {¯1+≢∪⍵}\n",
    "+/ day6_1¨ parsed6"
   ]
  },
  {
   "cell_type": "code",
   "execution_count": 391,
   "metadata": {},
   "outputs": [
    {
     "data": {
      "text/html": [
       "<span style=\"white-space:pre; font-family: monospace\">2971\n",
       "</span>"
      ]
     },
     "execution_count": 391,
     "metadata": {},
     "output_type": "execute_result"
    }
   ],
   "source": [
    "day6_2 ← {≢⊃∩/nl(≠⊆⊢)⍵}\n",
    "+/ day6_2¨ parsed6"
   ]
  },
  {
   "cell_type": "markdown",
   "metadata": {},
   "source": [
    "## Day 7"
   ]
  },
  {
   "cell_type": "code",
   "execution_count": 625,
   "metadata": {},
   "outputs": [],
   "source": [
    "input7 ← ⊃⎕NGET 'day7.txt' 1\n",
    "parsed7 ← {(1 1 0 0, (¯4+≢⍵)⍴1 1 1 0)⊆⍵}¨ ' ' (≠⊆⊢)¨ input7"
   ]
  },
  {
   "cell_type": "markdown",
   "metadata": {},
   "source": [
    "For problem one, consider a directed graph (more precise a tree), whith an edge a→b iff a∊b. Calculate the adjacency matrix A. The n-th power of A gives the n-deeply nested containment, the transitive closure is the fixed point of $A \\mapsto \\operatorname{sgn}(A + A \\times A)$.\n",
    "\n",
    "Thus, the problem is divided into two parts:\n",
    "1. Find the transitive closure T of the adjacency matrix for the baggage graph\n",
    "2. Find the index of 'shiny gold' bags and +/ the the corresponding row of T"
   ]
  },
  {
   "cell_type": "code",
   "execution_count": 626,
   "metadata": {},
   "outputs": [
    {
     "data": {
      "text/html": [
       "<span style=\"white-space:pre; font-family: monospace\">257\n",
       "</span>"
      ]
     },
     "execution_count": 626,
     "metadata": {},
     "output_type": "execute_result"
    }
   ],
   "source": [
    "parsed7_1 ← {⍵[1], 1↓¨1↓⍵}¨ parsed7\n",
    "eye ← {⍵ ⍵⍴1, ⍵⍴0} ⍝ unit matrix of shape ⍵ ⍵\n",
    "traclo ← {⍵∨⍵∨.∧⍵}⍣≡ ⍝ transitive closure\n",
    "⍝ For every bag, in which bags is it contained? (I. e. is there an edge?)\n",
    "day7_1 ←{+/ (traclo (-eye ≢⍵)+(⊂¨⊃¨⍵) ∘.∊ ⍵)[((⊃¨⍵) ⍳ ⊂'shiny' 'gold');]}\n",
    "day7_1 parsed7_1"
   ]
  },
  {
   "cell_type": "markdown",
   "metadata": {},
   "source": [
    "For problem one, we have to go the other way around. An edge a→b means that a contains b; also we have a multigraph now, meaning that each entry in A contains the number of edges given by the input."
   ]
  },
  {
   "cell_type": "code",
   "execution_count": 1365,
   "metadata": {},
   "outputs": [
    {
     "data": {
      "text/html": [
       "<span style=\"white-space:pre; font-family: monospace\">1038\n",
       "</span>"
      ]
     },
     "execution_count": 1365,
     "metadata": {},
     "output_type": "execute_result"
    }
   ],
   "source": [
    "foos ← (('foo' (4 'bar')) ('bar' ('no' 'more')) ('ham' ('no' 'more')) ('spam' (1 'quux') (2 'ham')) ('quux' (1 'foo') (3 'baz')) ('baz' ('no' 'more')))\n",
    "⍝ Transform empty bags into the right format;\n",
    "parsed7_2 ← {'no'≡⊃2⊃⍵:⊂⊃⍵ ⋄ ⍵}¨ parsed7\n",
    "len ← ≢ parsed7_2\n",
    "⍝ number of contained bags:\n",
    "numbers7 ← {⍎¨¨(1⊃¨¨1↓¨⍵),¨'0'} parsed7_2\n",
    "⍝ names of the bags contained in each bag, but catenated à la 'shiny' 'gold' → 'shinygold'\n",
    "names7 ← {∊¨¨1↓¨¨1↓¨⍵} parsed7_2\n",
    "\n",
    "⍝ [i; j] = index or ≢parsed7_2, depending on if a bag contains a bag\n",
    "indices7 ← {⊃¨⍵,¨≢⍵}(⍸¨names7 ∘.(≡¨) (⊂¨∊¨⊃¨parsed7_2)) \n",
    "⍝ [i; j] = (x y) such that (numbers7[x])[y] = adjacency[x;y]\n",
    "indices7_2 ← (⍉(len len)⍴ ⍳⍴ numbers7) ,¨ indices7 ⌊ ⍉(len len)⍴ ⍴¨numbers7\n",
    "⍝ The adjacency matrix (don’t ask me why):\n",
    "adj ← {⊃(numbers7[⍵1])}¨ indices7_2\n",
    "goldIndex ← ⍸(⊂'shinygold')⍷∊¨⊃¨parsed7_2\n",
    "⍝ 9 is a magic number right now; it should be ⍳(expression) = 0, but how?\n",
    "⍝ with adj(+.×⍣≡)adj we get the fixed point; we want to scan until that is reached.\n",
    "+/⊃+/goldIndex ⌷¨ ((+.×⍣≡)\\ 9⍴ ⊂⊃¨adj)\n"
   ]
  }
 ],
 "metadata": {
  "kernelspec": {
   "display_name": "Dyalog APL",
   "language": "apl",
   "name": "dyalog-kernel"
  },
  "language_info": {
   "file_extension": ".apl",
   "mimetype": "text/apl",
   "name": "APL"
  }
 },
 "nbformat": 4,
 "nbformat_minor": 4
}
