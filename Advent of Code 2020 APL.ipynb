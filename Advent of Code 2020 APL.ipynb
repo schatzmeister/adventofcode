{
 "cells": [
  {
   "cell_type": "markdown",
   "metadata": {},
   "source": [
    "# Advent of Code 2020 in APL\n",
    "\n",
    "## Day 1"
   ]
  },
  {
   "cell_type": "code",
   "execution_count": 219,
   "metadata": {},
   "outputs": [],
   "source": [
    "⍝ Read file linewise, parse every line into a number\n",
    "input1 ← ⍎¨⊃⎕NGET 'day1.txt' 1"
   ]
  },
  {
   "cell_type": "code",
   "execution_count": 3,
   "metadata": {},
   "outputs": [
    {
     "data": {
      "text/html": [
       "<span style=\"white-space:pre; font-family: monospace\">436404\n",
       "</span>"
      ]
     },
     "execution_count": 3,
     "metadata": {},
     "output_type": "execute_result"
    }
   ],
   "source": [
    "day1_1 ← {×/⍵[⊃⍸2020⍷⍵∘.+⍵]} ⍝ ←→ {×/⍵⌷⍨⊂⊃⍸2020=∘.+⍨⍵}\n",
    "day1_1 input1"
   ]
  },
  {
   "cell_type": "code",
   "execution_count": 4,
   "metadata": {},
   "outputs": [
    {
     "data": {
      "text/html": [
       "<span style=\"white-space:pre; font-family: monospace\">274879808\n",
       "</span>"
      ]
     },
     "execution_count": 4,
     "metadata": {},
     "output_type": "execute_result"
    }
   ],
   "source": [
    "day1_2 ← {×/⍵[⊃⍸2020⍷⍵(∘.+⍣2)⍵]} ⍝ ←→ {×/⍵⌷⍨⊂⊃⍸2020=(∘.+⍣2)⍨⍵}\n",
    "day1_2 input1"
   ]
  },
  {
   "cell_type": "markdown",
   "metadata": {},
   "source": [
    "## Day 2"
   ]
  },
  {
   "cell_type": "code",
   "execution_count": 5,
   "metadata": {},
   "outputs": [],
   "source": [
    "input2 ← ⊃⎕NGET 'day2.txt' 1\n",
    "⍝ '1-2 l: phrase' ~> (1 2 l phrase)\n",
    "parsed2 ← {' '(≠⊆⊢)('-|:' ⎕R ' ')⍵}¨ input2"
   ]
  },
  {
   "cell_type": "code",
   "execution_count": 6,
   "metadata": {},
   "outputs": [
    {
     "data": {
      "text/html": [
       "<span style=\"white-space:pre; font-family: monospace\">434\n",
       "</span>"
      ]
     },
     "execution_count": 6,
     "metadata": {},
     "output_type": "execute_result"
    }
   ],
   "source": [
    "⍝ Count occurrences of ⍵[3] in ⍵[4]:\n",
    "occ ← {+/⊃⍵[3]=⍵[4]}\n",
    "⍝ Check if ⍵[1] ≤ ⍺ ≤ ⍵[2]\n",
    "between ← {((⍎⊃⍵[1])≤⍺)∧((⍎⊃⍵[2])≥⍺)}\n",
    "⍝ Count correct passphrases:\n",
    "day2_1 ← {+/(occ between ⊣)¨⍵}\n",
    "day2_1 parsed2"
   ]
  },
  {
   "cell_type": "code",
   "execution_count": 7,
   "metadata": {},
   "outputs": [
    {
     "data": {
      "text/html": [
       "<span style=\"white-space:pre; font-family: monospace\">509\n",
       "</span>"
      ]
     },
     "execution_count": 7,
     "metadata": {},
     "output_type": "execute_result"
    }
   ],
   "source": [
    "day2_2 ← {≠/ (⊃⍵[3]) = (⊃⍵[4])[⍎¨⍵[1 2]]} ⍝ Check if the phrase is correct\n",
    "+/day2_2¨ parsed2"
   ]
  },
  {
   "cell_type": "markdown",
   "metadata": {},
   "source": [
    "## Day 3"
   ]
  },
  {
   "cell_type": "code",
   "execution_count": 8,
   "metadata": {},
   "outputs": [],
   "source": [
    "input3 ← ⎕NGET 'day3.txt' 1\n",
    "parsed3 ← ((≢,(≢⊃))⍴∊)⊃input3 ⍝ Parse input3 into a matrix of correct dimensions"
   ]
  },
  {
   "cell_type": "code",
   "execution_count": 9,
   "metadata": {
    "scrolled": true
   },
   "outputs": [
    {
     "data": {
      "text/html": [
       "<span style=\"white-space:pre; font-family: monospace\">184\n",
       "</span>"
      ]
     },
     "execution_count": 9,
     "metadata": {},
     "output_type": "execute_result"
    }
   ],
   "source": [
    "day3_1 ← {⊃+⌿ (3×¯1+⍳≢⍵) ⌽ '#'=⍵}\n",
    "day3_1 parsed3"
   ]
  },
  {
   "cell_type": "code",
   "execution_count": 10,
   "metadata": {},
   "outputs": [
    {
     "data": {
      "text/html": [
       "<span style=\"white-space:pre; font-family: monospace\">2431272960\n",
       "</span>"
      ]
     },
     "execution_count": 10,
     "metadata": {},
     "output_type": "execute_result"
    }
   ],
   "source": [
    "⍝ The logic is mostly the same, but with variable sloping\n",
    "day3_2 ← {⊃+⌿ (⍺×¯1+⍳≢⍵) ⌽ '#'=⍵}\n",
    "⍝ Special case ⍺=÷n: take every n-th line and shift the rows 1-wise \n",
    "preproc ← {((≢⍵)⍴1,((⍺-1)⍴0))⌿⍵}\n",
    "⍝ Format number in non-exponential notation\n",
    "'I10' ⎕FMT (1 day3_2 2 preproc parsed3)×{1 3 5 7 ×.day3_2 ⍵} ⊂parsed3"
   ]
  },
  {
   "cell_type": "markdown",
   "metadata": {},
   "source": [
    "## Day 4\n",
    "\n",
    "For problem one, if input is the file as one string, we want something like the following (in a Rusty syntax):\n",
    "```rust\n",
    "let requiredFields = [\"byr\", \"iyr\", \"eyr\", \"hgt\", \"hcl\", \"ecl\", \"pid\"];\n",
    "let solution = input : String\n",
    "    // Parsing part:\n",
    "    .splitAt(emptyLine) : [&String]\n",
    "    .map(|xs| xs.joinWith(' ')) : [&String]\n",
    "    .map(words) : [[&String]]\n",
    "    .map∘map(|xs| xs.splitAt(':')) : [[(String, String)]]\n",
    "    // Logic part:\n",
    "    .map∘map(first) : [[String]]\n",
    "    .map(|xs| isSubset(requiredFields, xs)) : [Bool]\n",
    "    .count(True);\n",
    "```"
   ]
  },
  {
   "cell_type": "code",
   "execution_count": 11,
   "metadata": {},
   "outputs": [],
   "source": [
    "input4 ← ⊃⎕NGET 'day4.txt' 0\n",
    "nl ← (⎕UCS 10)\n",
    "⍝ transform string into each line containing one key:value pair and a '-' between records\n",
    "normalize ← {('^$'⎕R'-') (' ' ⎕R '\\n') ⍵}\n",
    "splitAt ← {⍺(≠⊆⊢)⍵}\n",
    "⍝ Like splitAt, but checks for ∊ instead of =\n",
    "⍝ Must start with a divider, else the first partition element is lost. :(\n",
    "partitionAt ← {1↓¨⍺(∊¨⊂⊢)⍵}\n",
    "⍝ process key:value pairs\n",
    "entry ← {':' splitAt¨ ⍵}\n",
    "parsed4 ← entry¨ '-' partitionAt nl splitAt normalize nl, input4"
   ]
  },
  {
   "cell_type": "code",
   "execution_count": 153,
   "metadata": {},
   "outputs": [
    {
     "data": {
      "text/html": [
       "<span style=\"white-space:pre; font-family: monospace\">242\n",
       "</span>"
      ]
     },
     "execution_count": 153,
     "metadata": {},
     "output_type": "execute_result"
    }
   ],
   "source": [
    "day4_1 ← {7 = ≢'byr' 'iyr' 'eyr' 'hgt' 'hcl' 'ecl' 'pid' ∩ ⊃¨⍵}\n",
    "+/ day4_1¨ parsed4"
   ]
  },
  {
   "cell_type": "markdown",
   "metadata": {},
   "source": [
    "For problem two, dictionaries would be really helpful … Well it works, somehow."
   ]
  },
  {
   "cell_type": "code",
   "execution_count": 211,
   "metadata": {},
   "outputs": [
    {
     "data": {
      "text/html": [
       "<span style=\"white-space:pre; font-family: monospace\">186\n",
       "</span>"
      ]
     },
     "execution_count": 211,
     "metadata": {},
     "output_type": "execute_result"
    }
   ],
   "source": [
    "⍝ Check all conditions for every field\n",
    "⍝ Multiline definitions seem not to work. :(\n",
    "chbyr ← {(⍎⊃⍵) between '1920' '2002'}\n",
    "checl ← {(⊂⍵) ∊ 'amb' 'blu' 'brn' 'gry' 'grn' 'hzl' 'oth'}\n",
    "cheyr ← {(⍎⊃⍵) between '2020' '2030'}\n",
    "chhcl ← {'.'∊('^#[0-9a-f]{6}$' ⎕R'.') ⊃⍵} ⍝ Terrible hack, but that’s how it is\n",
    "chhgt ← {(≢'^(((59|6[0-9]|7[0-6])in)|(1([5-8]\\d|9[0-3])cm))$' ⎕S 1) ⍵}\n",
    "chiyr ← {(⍎⊃⍵) between '2010' '2020'}\n",
    "chpid ← {9=+/('^\\d{9}$' ⎕S 1) ⍵}\n",
    "checkall←{∧/(chbyr ⍵[1]) (checl ⊃⍵[2]) (cheyr ⍵[3]) (chhcl ⍵[4]) (chhgt ⍵[5]) (chiyr ⍵[6]) (chpid ⍵[7])}\n",
    "\n",
    "reduceFields ← {7=≢⍵: (2⊃¨⍵)[⍋⊃¨⍵] ⋄ 8=≢⍵: (1 0, 6⍴1) / (2⊃¨⍵)[⍋⊃¨⍵]}\n",
    "+/ (checkall∘reduceFields)¨ {(day4_1¨ ⍵)/⍵} parsed4"
   ]
  },
  {
   "cell_type": "markdown",
   "metadata": {},
   "source": [
    "## Day 5\n",
    "\n",
    "For problem one, there are three steps (not necessarily in that order):\n",
    "1. translate a code into a (row, seat) number pair\n",
    "2. sort all entries/take the maximum\n",
    "3. calculate `seatId ← seat + 8 × row`\n",
    "\n",
    "The most resource efficient would probably be 2–1–3, because then only one code has to be translated, but it should not make too much of a difference, since all three functions have to be implementet no matter what. Translation works as follows:\n",
    "\n",
    "```\n",
    "         F           B          F           B          B          F          F\n",
    "(0, 127) → (0, 63)   → (32, 63) → (32, 47)  → (40, 47) → (44, 47) → (44, 45) → (44, 44)\n",
    "(0, 2*7) + (0, -2*6) + (2*5, 0) + (0, -2*4) + ...\n",
    "```"
   ]
  },
  {
   "cell_type": "code",
   "execution_count": 253,
   "metadata": {},
   "outputs": [],
   "source": [
    "input5 ← ⊃⎕NGET 'day5.txt' 1"
   ]
  },
  {
   "cell_type": "code",
   "execution_count": 289,
   "metadata": {},
   "outputs": [
    {
     "data": {
      "text/html": [
       "<span style=\"white-space:pre; font-family: monospace\">838\n",
       "</span>"
      ]
     },
     "execution_count": 289,
     "metadata": {},
     "output_type": "execute_result"
    }
   ],
   "source": [
    "translate ← +/{(2*¯1+(⌽⍳7),⌽⍳3)×⍺=⍵} ⍝ Count using B for rows, R for seats\n",
    "seats ← ('B'∘translate,'R'∘translate)¨ input5\n",
    "day5_1 ← {+/8 1×⍵}\n",
    "⌈/day5_1¨ seats"
   ]
  },
  {
   "cell_type": "code",
   "execution_count": 324,
   "metadata": {},
   "outputs": [
    {
     "data": {
      "text/html": [
       "<span style=\"white-space:pre; font-family: monospace\">714\n",
       "</span>"
      ]
     },
     "execution_count": 324,
     "metadata": {},
     "output_type": "execute_result"
    }
   ],
   "source": [
    "sortedSeats ← {⍵[⍒⍵]} day5_1¨ seats\n",
    "day5_2 ← {¯1+⍵[⍸1≠-⌿¯1↓[2](2, ≢⍵)⍴⍵, 1⌽⍵]} ⍝ subtract neighbors, find difference greater 1\n",
    "day5_2 sortedSeats"
   ]
  },
  {
   "cell_type": "markdown",
   "metadata": {},
   "source": [
    "## Day 6"
   ]
  },
  {
   "cell_type": "code",
   "execution_count": 357,
   "metadata": {},
   "outputs": [],
   "source": [
    "input6 ← ⊃⎕NGET 'day6.txt' 0\n",
    "parsed6 ← '-' partitionAt normalize nl, input6 ⍝ Reuse from day 4"
   ]
  },
  {
   "cell_type": "code",
   "execution_count": 360,
   "metadata": {},
   "outputs": [
    {
     "data": {
      "text/html": [
       "<span style=\"white-space:pre; font-family: monospace\">6161\n",
       "</span>"
      ]
     },
     "execution_count": 360,
     "metadata": {},
     "output_type": "execute_result"
    }
   ],
   "source": [
    "day6_1 ← {¯1+≢∪⍵}\n",
    "+/ day6_1¨ parsed6"
   ]
  },
  {
   "cell_type": "code",
   "execution_count": 391,
   "metadata": {},
   "outputs": [
    {
     "data": {
      "text/html": [
       "<span style=\"white-space:pre; font-family: monospace\">2971\n",
       "</span>"
      ]
     },
     "execution_count": 391,
     "metadata": {},
     "output_type": "execute_result"
    }
   ],
   "source": [
    "day6_2 ← {≢⊃∩/nl(≠⊆⊢)⍵}\n",
    "+/ day6_2¨ parsed6"
   ]
  },
  {
   "cell_type": "markdown",
   "metadata": {},
   "source": [
    "## Day 7"
   ]
  },
  {
   "cell_type": "code",
   "execution_count": 625,
   "metadata": {},
   "outputs": [],
   "source": [
    "input7 ← ⊃⎕NGET 'day7.txt' 1\n",
    "parsed7 ← {(1 1 0 0, (¯4+≢⍵)⍴1 1 1 0)⊆⍵}¨ ' ' (≠⊆⊢)¨ input7"
   ]
  },
  {
   "cell_type": "markdown",
   "metadata": {},
   "source": [
    "For problem one, consider a directed graph (more precise a tree), whith an edge a→b iff a∊b. Calculate the adjacency matrix A. The n-th power of A gives the n-deeply nested containment, the transitive closure is the fixed point of $A \\mapsto \\operatorname{sgn}(A + A \\times A)$.\n",
    "\n",
    "Thus, the problem is divided into two parts:\n",
    "1. Find the transitive closure T of the adjacency matrix for the baggage graph\n",
    "2. Find the index of 'shiny gold' bags and +/ the the corresponding row of T"
   ]
  },
  {
   "cell_type": "code",
   "execution_count": 626,
   "metadata": {},
   "outputs": [
    {
     "data": {
      "text/html": [
       "<span style=\"white-space:pre; font-family: monospace\">257\n",
       "</span>"
      ]
     },
     "execution_count": 626,
     "metadata": {},
     "output_type": "execute_result"
    }
   ],
   "source": [
    "parsed7_1 ← {⍵[1], 1↓¨1↓⍵}¨ parsed7\n",
    "eye ← {⍵ ⍵⍴1, ⍵⍴0} ⍝ unit matrix of shape ⍵ ⍵\n",
    "traclo ← {⍵∨⍵∨.∧⍵}⍣≡ ⍝ transitive closure\n",
    "⍝ For every bag, in which bags is it contained? (I. e. is there an edge?)\n",
    "day7_1 ←{+/ (traclo (-eye ≢⍵)+(⊂¨⊃¨⍵) ∘.∊ ⍵)[((⊃¨⍵) ⍳ ⊂'shiny' 'gold');]}\n",
    "day7_1 parsed7_1"
   ]
  },
  {
   "cell_type": "markdown",
   "metadata": {},
   "source": [
    "For problem one, we have to go the other way around. An edge a→b means that a contains b; also we have a multigraph now, meaning that each entry in A contains the number of edges given by the input."
   ]
  },
  {
   "cell_type": "code",
   "execution_count": null,
   "metadata": {},
   "outputs": [],
   "source": [
    "foos ← (('foo' (4 'bar')) ('bar' ('no' 'more')) ('ham' ('no' 'more')) ('spam' (1 'quux') (2 'ham')) ('quux' (1 'foo') (3 'baz')) ('baz' ('no' 'more')))\n",
    "⍝ Transform empty bags into the right format;\n",
    "parsed7_2 ← {'no'≡⊃2⊃⍵:⊂⊃⍵ ⋄ ⍵}¨ parsed7\n",
    "len ← ≢ parsed7_2\n",
    "⍝ number of contained bags:\n",
    "numbers7 ← {⍎¨¨(1⊃¨¨1↓¨⍵),¨'0'} parsed7_2\n",
    "⍝ names of the bags contained in each bag, but catenated à la 'shiny' 'gold' → 'shinygold'\n",
    "names7 ← {∊¨¨1↓¨¨1↓¨⍵} parsed7_2\n",
    "\n",
    "⍝ [i; j] = index or ≢parsed7_2, depending on if a bag contains a bag\n",
    "indices7 ← {⊃¨⍵,¨≢⍵}(⍸¨names7 ∘.(≡¨) (⊂¨∊¨⊃¨parsed7_2)) \n",
    "⍝ [i; j] = (x y) such that (numbers7[x])[y] = adjacency[x;y]\n",
    "indices7_2 ← (⍉(len len)⍴ ⍳⍴ numbers7) ,¨ indices7 ⌊ ⍉(len len)⍴ ⍴¨numbers7\n",
    "⍝ The adjacency matrix (don’t ask me why):\n",
    "adj ← {⊃(numbers7[⍵1])}¨ indices7_2\n",
    "goldIndex ← ⍸(⊂'shinygold')⍷∊¨⊃¨parsed7_2\n",
    "⍝ 9 is a magic number right now; it should be n given by when adj*n ≡ 0 , but how?\n",
    "⍝ with adj(+.×⍣≡)adj we get the fixed point; we want to scan until that is reached.\n",
    "+/⊃+/goldIndex ⌷¨ ((+.×⍣≡)\\ 9⍴ ⊂⊃¨adj)"
   ]
  },
  {
   "cell_type": "markdown",
   "metadata": {},
   "source": [
    "## Day 8"
   ]
  },
  {
   "cell_type": "code",
   "execution_count": 699,
   "metadata": {},
   "outputs": [],
   "source": [
    "input8 ← ⊃⎕NGET 'day8.txt' 1\n",
    "parsed8 ← ' ' (≠⊆⊢)¨ input8"
   ]
  },
  {
   "cell_type": "markdown",
   "metadata": {},
   "source": [
    "For problem one, first go through the instructions and create an array of the lines to be executed in the right order; loop detection also happens here. Look up the `(cmd, val)` pairs at these lines and filter out all `nop`s and `jmp`s. The sum of the result is the solution.\n",
    "\n",
    "Multiline function definitions seem to have to be in their own cell. Thus, there are more than three cells for this (and following) days."
   ]
  },
  {
   "cell_type": "code",
   "execution_count": 696,
   "metadata": {},
   "outputs": [],
   "source": [
    "]dinput\n",
    "cmds8←{ ⍝ List all commands that are actually executed, until repeat\n",
    "    ⍺ ← 1 ⍝ Default value for monadic execution\n",
    "    last ← ¯1↑⍺\n",
    "    last∊¯1↓⍺: ¯1↓⍺ ⍝ Loop/duplicate detection\n",
    "    last>(≢⍵): 0, ⍺ ⍝ PC > #cmds, program terminates; added for problem two\n",
    "    cmd ← ⍵[last]\n",
    "    'jmp'≡⊃⊃cmd: (⍺, last+⍎2⊃⊃cmd)∇⍵ ⍝ Change PC for jmp\n",
    "    (⍺, last+1)∇⍵\n",
    "}"
   ]
  },
  {
   "cell_type": "code",
   "execution_count": 628,
   "metadata": {},
   "outputs": [
    {
     "data": {
      "text/html": [
       "<span style=\"white-space:pre; font-family: monospace\">1797\n",
       "</span>"
      ]
     },
     "execution_count": 628,
     "metadata": {},
     "output_type": "execute_result"
    }
   ],
   "source": [
    "⍝ ⍵ the to-be-executed cmds; filter out all `jmp`s and `nop`s, only retain `acc`s.\n",
    "day8_1 ← {+/⍎¨2⊃¨({'acc'∘≡⊃⍵}¨ ⍵)/⍵}\n",
    "day8_1 parsed8[cmds8 parsed8]"
   ]
  },
  {
   "cell_type": "markdown",
   "metadata": {},
   "source": [
    "For problem two, we need to generate every possible variation of the program by flipping one `nop`/`jmp` at a time. Then, every program is tested for termination, and only the single terminating program is filtered out; this is then executed."
   ]
  },
  {
   "cell_type": "code",
   "execution_count": 459,
   "metadata": {},
   "outputs": [],
   "source": [
    "]dinput\n",
    "flipCmds ← { ⍝ Flip command at position ⍺\n",
    "    cmd ← ⊃⍵[⍺]\n",
    "    'acc'≡⊃cmd: ⍬ ⍝ Return nothing for 'acc', since 'acc' cannot be changed\n",
    "    ('nop' '+0')≡cmd: ⍬ ⍝ jmp +0 is illegal, return nothing\n",
    "    cmd ← ⊂('nop' 'jmp')[('jmp' 'nop')⍳⊂⊃cmd], ⊂2⊃cmd \n",
    "    ((⍺-1)↑⍵), cmd, ⍺↓⍵ ⍝ jmp → nop always works\n",
    "}"
   ]
  },
  {
   "cell_type": "code",
   "execution_count": 700,
   "metadata": {},
   "outputs": [
    {
     "data": {
      "text/html": [
       "<span style=\"white-space:pre; font-family: monospace\">1036\n",
       "</span>"
      ]
     },
     "execution_count": 700,
     "metadata": {},
     "output_type": "execute_result"
    }
   ],
   "source": [
    "⍝ Generate all possible programs, remove the trivial changes,\n",
    "⍝ choose the terminating one (with the prepended 0; which is then dropped).\n",
    "⍝ This could potentially be prettier if instead of the zero, it is looked for\n",
    "⍝ an Index that is out of bounds.\n",
    "correct ← 1↓ ¯1↓⊃{(0∊¨⍵)/⍵} cmds8¨ {(~(0∊⍴)¨⍵)/⍵} {(⍳≢⍵)∘.flipCmds⊂⍵} parsed8\n",
    "day8_1 parsed8[correct]"
   ]
  },
  {
   "cell_type": "markdown",
   "metadata": {},
   "source": [
    "## Day 9"
   ]
  },
  {
   "cell_type": "code",
   "execution_count": 169,
   "metadata": {},
   "outputs": [],
   "source": [
    "input9 ← ⍎¨⊃⎕NGET 'day9.txt' 1"
   ]
  },
  {
   "cell_type": "markdown",
   "metadata": {},
   "source": [
    "For problem one, get the `n` numbers before `j` by rotating the input by `j`. We ignore the first `n` rows, since they are the preamble, and then search the first `n` entries per to sum to the `n+1`-th entry, similar to day1. Keep in mind that the preamble is treated specially."
   ]
  },
  {
   "cell_type": "code",
   "execution_count": 170,
   "metadata": {},
   "outputs": [
    {
     "data": {
      "text/html": [
       "<span style=\"white-space:pre; font-family: monospace\">88311122\n",
       "</span>"
      ]
     },
     "execution_count": 170,
     "metadata": {},
     "output_type": "execute_result"
    }
   ],
   "source": [
    "⍝ Vector of the previous ⍺ entries for each entry of ⍵, beginning with index ⍺+1.\n",
    "⍝ The last set of ⍺ entries doesn’t have to be checked.\n",
    "previous ← {¯1↓⍺ ,/ ⍵}\n",
    "⍝ Variation on day1_1 with sum-checking for every entry.\n",
    "isSum ← {(⍺↓⍵)∊¨{⍵∘.+⍵}¨ ⍺ previous ⍵}\n",
    "⍝ Get the correct entry; ⍺ and ⍵ as usual.\n",
    "day9_1 ← {⍵[⍸(⍺⍴0),~⍺isSum⍵]}\n",
    "25 day9_1 input9"
   ]
  },
  {
   "cell_type": "markdown",
   "metadata": {},
   "source": [
    "For problem two, generate all contiguous sets of numbers, sum them up and check for equality with the goal number. If equal, sort the set and add the smallest and largest of the numbers."
   ]
  },
  {
   "cell_type": "code",
   "execution_count": 181,
   "metadata": {
    "scrolled": true
   },
   "outputs": [
    {
     "data": {
      "text/html": [
       "<span style=\"white-space:pre; font-family: monospace\">13549369\n",
       "</span>"
      ]
     },
     "execution_count": 181,
     "metadata": {},
     "output_type": "execute_result"
    }
   ],
   "source": [
    "⍝ All possible contiguous subsets:\n",
    "contigs ← {⊃∪/(1↓⍳≢⍵),/¨⊂⍵}\n",
    "goal ← 25 day9_1 input9\n",
    "⍝ Due to workspace limitations, we need to drop the entries after goal; this is valid (at leat in our case), since\n",
    "⍝ +/goal ≥ 564↓ input9 ←→ 0.\n",
    "⍝ Find the correct contiguous set; sort it and add the first and last element:\n",
    "day9_2 ← {{+/⍵[(⊃,(¯1∘↑))⍒⍵]} ⊃{⍵[⍸goal=+/¨⍵]}contigs (⍵⍳goal)↑⍵}\n",
    "day9_2 input9"
   ]
  },
  {
   "cell_type": "markdown",
   "metadata": {},
   "source": [
    "## Day 10"
   ]
  },
  {
   "cell_type": "code",
   "execution_count": 415,
   "metadata": {},
   "outputs": [],
   "source": [
    "input10 ← ⍎¨⊃⎕NGET 'day10.txt' 1"
   ]
  },
  {
   "cell_type": "code",
   "execution_count": 397,
   "metadata": {},
   "outputs": [
    {
     "data": {
      "text/html": [
       "<span style=\"white-space:pre; font-family: monospace\">1820\n",
       "</span>"
      ]
     },
     "execution_count": 397,
     "metadata": {},
     "output_type": "execute_result"
    }
   ],
   "source": [
    "⍝ Add a 1 for the outlet and a 3 for the device\n",
    "day10_1 ← {×/+/¨1,¨((3∘=),(1∘=)),-/1 0⌽¨⊂⍵[⍋⍵]}\n",
    "day10_1 input10"
   ]
  },
  {
   "cell_type": "markdown",
   "metadata": {},
   "source": [
    "For problem 2, all adaptors with 3-jolt difference have to be in. Adaptors with a difference of 1 jolt can potentially be removed, according to the following removal scheme (dependent on the number of contiguous 1’s):\n",
    "* 3 1 3 → the 1 cannot be removed, ergo 1 possibility\n",
    "* 3 1 1 3 → only the first 1 can be removed, ergo 2=1+1 possibilities\n",
    "* 3 1 1 1 3 → can remove none, the 1st, the 2nd or both, ergo 4=1+2+1 possibilities\n",
    "* 3 1 1 1 1 3 → can remove none, 1st, 2nd, 3rd, or any two of them, ergo 7=1+3+3 possibilities\n",
    "* 3 1 1 1 1 1 3 → 13=1+4+6+2\n",
    "\n",
    "These are (as I found out afterwards) the [Tribonacci numbers](https://oeis.org/A000073): $\\operatorname{Possibilities}(n) = T(n+2)$, where $n$ is the number of 1’s and $T(0)=T(1)=0, T(2)=1, T(n+3)=T(n+2)+T(n+1)+T(n)$."
   ]
  },
  {
   "cell_type": "code",
   "execution_count": 416,
   "metadata": {},
   "outputs": [
    {
     "data": {
      "text/html": [
       "<span style=\"white-space:pre; font-family: monospace\">3454189699072\n",
       "</span>"
      ]
     },
     "execution_count": 416,
     "metadata": {},
     "output_type": "execute_result"
    }
   ],
   "source": [
    "⍝ Partition into sets of contiguous 1’s, count their length and transform according to notes above.\n",
    "combinations ← 1 2 4 7 13\n",
    "day10_2 ← {×/combinations[≢¨3(≠⊆⊢)1,¯1↓⊃-/1 0⌽¨⊂⍵[⍋⍵]]}\n",
    "'I13' ⎕FMT day10_2 input10"
   ]
  },
  {
   "cell_type": "markdown",
   "metadata": {},
   "source": [
    "## Day 11"
   ]
  },
  {
   "cell_type": "code",
   "execution_count": 1183,
   "metadata": {},
   "outputs": [],
   "source": [
    "input11 ← ↑⊃⎕NGET 'test_input.txt' 1"
   ]
  },
  {
   "cell_type": "markdown",
   "metadata": {},
   "source": [
    "Problem one is more or less Game of Life, only with different numbers and the constraint that only some cells can be inhabited."
   ]
  },
  {
   "cell_type": "code",
   "execution_count": 1312,
   "metadata": {},
   "outputs": [
    {
     "data": {
      "text/html": [
       "<span style=\"white-space:pre; font-family: monospace\">37\n",
       "</span>"
      ]
     },
     "execution_count": 1312,
     "metadata": {},
     "output_type": "execute_result"
    }
   ],
   "source": [
    "⍝ Add padding as a border, so that wraparound won’t happen.\n",
    "seats ← ¯1+'.L'⍳input11\n",
    "bSeats ← (0⍪0,seats,0)⍪0\n",
    "occupied ← (⍴seats)⍴0\n",
    "bOccupied ← (⍴bSeats)⍴0\n",
    "⍝ a seat will be occupied, iff it has 0 neighbors or it is occupied and has 5 or less neighbors\n",
    "step ← {bSeats ∧ ⊃(0∘=∨((⊂⍵)∧≤∘4))+/,¯1 0 1∘.⊖¯1 0 1∘.⌽⊂⍵}\n",
    "+/,(step⍣≡⊢ bOccupied)"
   ]
  },
  {
   "cell_type": "markdown",
   "metadata": {},
   "source": [
    "For problem two, cells count as neighboring if they are in a direct line of each other, with only floor spaces between them. So we need a new idea:\n",
    "* Find all neighbors of every cell, if they exist – this is a 3×3 matrix (this is the difficult part); idea:\n",
    "    * Generate eight vectors, concisting of all cells in each of the eight directions\n",
    "    * Find the indices of the first occupied cells in each vector\n",
    "    * Offset the indices by the index of the cell itself\n",
    "* Sum up every such matrix and check as usual"
   ]
  },
  {
   "cell_type": "code",
   "execution_count": 1262,
   "metadata": {},
   "outputs": [],
   "source": [
    "]dinput\n",
    "directions←{ ⍝ for index ⍺ and seat matrix ⍵, return next seat in every direction.\n",
    "    row  ← ⊂(('*'@(⊂⍺))⍵)[1⊃⍺;]\n",
    "    col  ← ⊂(('*'@(⊂⍺))⍵)[;2⊃⍺]\n",
    "    ⍝ I have no idea, why we need the \"2+\" offset, but that seems to fix it\n",
    "    diag ← ⊂ ⍺ {⍵[⊃(⍴seats)+⍺;]} ⍺ {(2+(⍳2⊃⍴⍵)-2⊃⍺)⊖⍵} padMany (('*'@(⊂⍺))⍵)\n",
    "    ⍝ Here, we have a \"2-\" offset\n",
    "    anti ← ⊂ ⍺ {⍵[⊃(⍴seats)+⍺;]} ⍺ {(2-(2⊃⍺)-⍳2⊃⍴⍵)⊖⍵} padMany (('*'@(⊂⍺))⍵)\n",
    "    ⍝ Split each at '*' to get the 8 directions, invert all \"incoming\" directions\n",
    "    directions ← 1⍳¨⍨(⌽¨@1 3 5 7)⊃,/'*'(≠⊆⊢)¨ row, col, diag, anti\n",
    "    ⍝directions\n",
    "    ⍝ rearrange into a nice matrix\n",
    "    3 3 ⍴(directions, 0)[5 3 8 1 9 2 7 4 6]\n",
    "}"
   ]
  },
  {
   "cell_type": "code",
   "execution_count": 1218,
   "metadata": {},
   "outputs": [],
   "source": [
    "]dinput\n",
    "neighbors←{ ⍝ Calculate the indices of all \"neighboring\" seats for seat with index ⍵\n",
    "    (⊂⍵) + (⍵ directions bSeats) × 3 3 ⍴ (¯1 ¯1)(¯1 0)(¯1 1) (0 ¯1)(0 0)(0 1) (1 ¯1)(1 0)(1 1)\n",
    "}"
   ]
  },
  {
   "cell_type": "code",
   "execution_count": 1249,
   "metadata": {},
   "outputs": [
    {
     "data": {
      "text/html": [
       "<span style=\"white-space:pre; font-family: monospace\">0 0\n",
       "0 0\n",
       "</span>"
      ]
     },
     "execution_count": 1249,
     "metadata": {},
     "output_type": "execute_result"
    },
    {
     "data": {
      "text/html": [
       "<span style=\"white-space:pre; font-family: monospace\">┌───────────────────────┐\n",
       "│0 1 1 1 1 0 1 0 1 0 * 0│\n",
       "└───────────────────────┘\n",
       "</span>"
      ]
     },
     "execution_count": 1249,
     "metadata": {},
     "output_type": "execute_result"
    }
   ],
   "source": [
    "⍝ Add 0-padding on above and below the matrix\n",
    "padMany ← {(-2⊃⍴⍵)⊖⍵⍪((2 1×⍴⍵)⍴0)}\n",
    "\n",
    "⍝ Filter out seats that are out of bounds; these are not occupied\n",
    "valid ← {⊃∧/~(0,1+⍴⍵)∊¨¨ ⊂neighbors⍵}\n",
    "\n",
    "⍝ Count occupied seats neighboring ⍺, where ⍵ is the occupation matrix\n",
    "count ← {+/⍵[(⊂⍬)~⍨,(valid ⍺)/¨(neighbors ⍺)]}\n",
    "\n",
    "⍝ Will ⍺ be occupied in the next step, according to current occupation matrix ⍵?\n",
    "step ← {⍵[⊃⍺;2⊃⍺] {((1=⍺)∧4≤⍵)∨0=⍵} ⍺ count ⍵}\n",
    "\n",
    "⍝ Occupied seats after one step are seats∧(indices step occupied)\n",
    "\n",
    "⍝(⊂¨1+⍳(⍴seats)) step¨¨ (⊂⊂occupied)\n",
    "⍝(,⊂¨⍳10 10) step¨¨ (⊂⊂occupied)\n",
    "⍝(1+⊂¨⍳(⍴5 5)) count¨¨ ⊂⊂occupied\n",
    "(1+⊂¨2 2⍴(3 3) (4 6) (5 1) (9 9)) count¨¨ ⊂⊂occupied\n",
    "⍝⊂¨1+⍳(¯1+⍴seats)\n",
    "11 11 {⊂ ⍺ {⍵[⊃(⍴seats)+⍺;]} ⍺ {(2+(⍳2⊃⍴⍵)-2⊃⍺)⊖⍵} padMany (('*'@(⊂⍺))⍵)} bSeats"
   ]
  },
  {
   "cell_type": "code",
   "execution_count": 1338,
   "metadata": {},
   "outputs": [
    {
     "name": "stderr",
     "output_type": "stream",
     "text": [
      "RANK ERROR\n",
      "directions[1] row←⊂(('*'@(⊂⍺))⍵)[1⊃⍺;]\n",
      "                                  ∧\n"
     ]
    }
   ],
   "source": [
    "⍝(1+⊂¨2 2⍴(1 1) (1 2) (2 1) (2 2)) count¨¨ ⊂⊂seats\n",
    "⍝ (1+⊂¨(1 1) (5 5) (9 9)) count¨¨ ⊂⊂occupied\n",
    "⍝(⊃¨(1+⊂¨⍳(⍴seats)) {⍺{(⊂⍬)~⍨,(valid ⍺)/¨(neighbors ⍺)}¨¨⍵} ⊂⊂occupied)\n",
    "neighbors ⍳2 2"
   ]
  },
  {
   "cell_type": "markdown",
   "metadata": {},
   "source": [
    "## Day 12\n",
    "\n",
    "For problem one, transform the relative directions to absolute, then calculate N/S and W/E independently."
   ]
  },
  {
   "cell_type": "code",
   "execution_count": 1642,
   "metadata": {},
   "outputs": [],
   "source": [
    "input12 ← (⊃,(⍎1∘↓))¨ ⊃⎕NGET 'day12.txt' 1"
   ]
  },
  {
   "cell_type": "code",
   "execution_count": 1636,
   "metadata": {},
   "outputs": [
    {
     "data": {
      "text/html": [
       "<span style=\"white-space:pre; font-family: monospace\">1565\n",
       "</span>"
      ]
     },
     "execution_count": 1636,
     "metadata": {},
     "output_type": "execute_result"
    }
   ],
   "source": [
    "⍝ Get value for key ⍵ from assiciative list ⍺. Stolen from dfns.dyalog.org\n",
    "alget←{keys vals←⍺ ⋄ (keys⍳⊂⍵)⊃vals}\n",
    "⍝ Action ⍺ gets translated into ⍵⌽'NESW'\n",
    "turns ← ((' ' 0) ('R' 90) ('R' 180) ('R' 270) ('L' 90) ('L' 180) ('L' 270)) (0 1 2 3 ¯1 ¯2 ¯3)\n",
    "⍝ For every action, the direction the ship is facing to at the beginning of the action:\n",
    "dirs ← ¯1↓+\\1,(turns∘alget)¨ {({((⊃⍵)∊'LR')-(⊃⍵)∊'NESWF'}¨⍵)/⍵} input12\n",
    "⍝ ⍺ the current direction, ⍵ the current action, change every 'F' into the corresponding direction\n",
    "⍝ and every 'L' and 'R' into ('N' 0) – we could also use ⍬. Leave absolute movements unchanged.\n",
    "transform ← {'F'=⊃⍵: (⊃⍺⌽'NESW'), 2⊃⍵ ⋄ (⊃⍵)∊'LR':'N' 0 ⋄ ⍵}\n",
    "\n",
    "⍝ Counting\n",
    "northSouth←{+/(2⊃¨⍵)×((⊃¨⍵)∊'S')-(⊃¨⍵)∊'N'} ⍝ N is negative, S is positive\n",
    "eastWest←{+/(2⊃¨⍵)×((⊃¨⍵)∊'E')-(⊃¨⍵)∊'W'} ⍝ W is negative, E is positive\n",
    "\n",
    "⍝ Combining the counts\n",
    "absolute←{(northSouth⍵),eastWest⍵}\n",
    "+/|absolute (dirs transform¨ input12)"
   ]
  },
  {
   "cell_type": "markdown",
   "metadata": {},
   "source": [
    "For problem two, step through the actions recursively."
   ]
  },
  {
   "cell_type": "code",
   "execution_count": 1629,
   "metadata": {},
   "outputs": [],
   "source": [
    "⍝ ⍺ the amount of rotation, ⍵ the position\n",
    "rotL ← {ns ew ← ⍵ ⋄ ⍺=90: (-ew) ns ⋄ ⍺=180: -ns ew ⋄ ⍺=270: ew (-ns)}"
   ]
  },
  {
   "cell_type": "code",
   "execution_count": 1,
   "metadata": {},
   "outputs": [],
   "source": [
    "]dinput\n",
    "day12_2←{ ⍝ ⍺≡((yship xship) (ywp xwp)), ⍵ the remaining actions\n",
    "    key amt ← ⊃⍵\n",
    "    ship wp ← ⍺\n",
    "    key∊'NESW': (ship (wp+amt×⊃(¯1 0) (0 1) (1 0) (0 ¯1)['NESW'⍳key])) ∇ (1↓⍵)\n",
    "    key='L': (ship (amt rotL wp)) ∇ (1↓⍵)\n",
    "    ⍝ Express rotation to the right by rotation to the left:\n",
    "    key='R': (ship ((360-amt) rotL wp)) ∇ (1↓⍵) \n",
    "    key='F': ((ship+amt×wp) wp) ∇ (1↓⍵)\n",
    "    ⊃⍺\n",
    "}"
   ]
  },
  {
   "cell_type": "code",
   "execution_count": 1665,
   "metadata": {},
   "outputs": [
    {
     "data": {
      "text/html": [
       "<span style=\"white-space:pre; font-family: monospace\">78883\n",
       "</span>"
      ]
     },
     "execution_count": 1665,
     "metadata": {},
     "output_type": "execute_result"
    }
   ],
   "source": [
    "+/|((0 0) (¯1 10)) day12_2 input12"
   ]
  },
  {
   "cell_type": "markdown",
   "metadata": {},
   "source": [
    "## Day 13"
   ]
  },
  {
   "cell_type": "code",
   "execution_count": 6,
   "metadata": {},
   "outputs": [],
   "source": [
    "input13 ← ⊃⎕NGET 'day13.txt' 1\n",
    "arrival ← ⍎⊃input13\n",
    "ints ← {⍎¨⍵(∊⊆⊣)⎕D}\n",
    "buses ← ints 2⊃input13\n",
    "⍝ Filter for the relevant buses\n",
    "filter ← 'x'≠⊃¨ ','(≠⊆⊢)2⊃input13\n",
    "⍝ first row are offsets, second row are bus IDs \n",
    "xbuses ← ↑(⊂filter/¯1+⍳≢filter),⊂⍎¨filter/','(≠⊆⊢)2⊃input13"
   ]
  },
  {
   "cell_type": "markdown",
   "metadata": {},
   "source": [
    "For problem one, for arrival `a` and bus `b`, the bus last came `b|a` minutes before our arrival, thus we have to wait `b-b|a` minutes for it to arrive again."
   ]
  },
  {
   "cell_type": "code",
   "execution_count": 34,
   "metadata": {},
   "outputs": [
    {
     "data": {
      "text/html": [
       "<span style=\"white-space:pre; font-family: monospace\">2215\n",
       "</span>"
      ]
     },
     "execution_count": 34,
     "metadata": {},
     "output_type": "execute_result"
    }
   ],
   "source": [
    "({⊃buses[⊃⍋⍵]}×{⊃⍵[⊢⍋⍵]})buses-buses|arrival"
   ]
  },
  {
   "cell_type": "markdown",
   "metadata": {},
   "source": [
    "Problem two looks a lot like chinese remainder theorem. For e.g. `(id offset)` pairs `(19 0) (41 9)` we look for a solution `x` to:\n",
    "$$\n",
    "    x ≡ 0 \\, (\\operatorname{mod} 19) \\\\\n",
    "    x ≡ 9 \\, (\\operatorname{mod} 41)\n",
    "$$"
   ]
  },
  {
   "cell_type": "code",
   "execution_count": 397,
   "metadata": {},
   "outputs": [],
   "source": [
    "]dinput\n",
    "chinese←{ ⍝ ⍺ the residues, ⍵ the moduli\n",
    "    d y _ ← ⍵[1] egcd ⍵[2]\n",
    "    na nw ←, (⍺[1]-y×⍵[1]×(⍺[1]-⍺[2])÷d) ((⍵[1]×⍵[2])÷d)\n",
    "    ⍝ If there were only 2 congruences left, we are done\n",
    "    2=≢⍺: nw na\n",
    "    ⍝ Otherwise, recurse\n",
    "    (na, 2↓⍺)∇(nw, 2↓⍵)\n",
    "}"
   ]
  },
  {
   "cell_type": "code",
   "execution_count": 408,
   "metadata": {},
   "outputs": [
    {
     "data": {
      "text/html": [
       "<span style=\"white-space:pre; font-family: monospace\">1058443396696792\n",
       "</span>"
      ]
     },
     "execution_count": 408,
     "metadata": {},
     "output_type": "execute_result"
    }
   ],
   "source": [
    "⍝ Extended Euclidean Algorithm for ⍺ and ⍵.\n",
    "egcd←{⍺=0: ⍵ 0 1 ⋄ d x y←(⍺|⍵)∇⍺ ⋄ d (y-x×⌊⍵÷⍺) x}\n",
    "⍝ This would be the solution; it works for the test inputs,\n",
    "⍝ so it’s probably algorithmically correct, but the real input\n",
    "⍝ seems to be way too big and I don’t get APL to work with bigints.\n",
    "⍝ -/|\\(xbuses[1;] chinese xbuses[2;])\n",
    "\n",
    "⍝ This is the answer as produced with an online CRT calculator.\n",
    "-/|\\(∧/xbuses[2;]) 490590248452237"
   ]
  },
  {
   "cell_type": "markdown",
   "metadata": {},
   "source": [
    "## Day 14"
   ]
  },
  {
   "cell_type": "code",
   "execution_count": 424,
   "metadata": {},
   "outputs": [],
   "source": [
    "input14 ← ⊃⎕NGET 'day14.txt' 1\n",
    "ints ← {⍎¨⍵(∊⊆⊣)⎕D}\n",
    "parseProg ← {'mask'(⊣≡∩)⍵: ⊃¯1↑' '(≠⊆⊢)⍵ ⋄ ints ⍵}\n",
    "parsed14 ← parseProg¨ input14"
   ]
  },
  {
   "cell_type": "code",
   "execution_count": 65,
   "metadata": {},
   "outputs": [],
   "source": [
    "]dinput\n",
    "appMasks←{ ⍝ ⍺ the program, ⍵ the current mask; result is the updated mem-commands\n",
    "    0=≢⍺: ⍬\n",
    "    cmd←⊃⍺ ⍝ Read the next command\n",
    "    2≠≢cmd: (1↓⍺) ∇ cmd ⍝ mask command\n",
    "    addr val←cmd ⍝ Destructure mem command\n",
    "    (⊂addr, val appMask ⍵) ,((1↓⍺) ∇ ⍵)\n",
    "}"
   ]
  },
  {
   "cell_type": "code",
   "execution_count": 79,
   "metadata": {},
   "outputs": [
    {
     "data": {
      "text/html": [
       "<span style=\"white-space:pre; font-family: monospace\">14839536808842\n",
       "</span>"
      ]
     },
     "execution_count": 79,
     "metadata": {},
     "output_type": "execute_result"
    }
   ],
   "source": [
    "⎕PP←34\n",
    "⍝ ⍺ the value, ⍵ the mask\n",
    "appMask←{2⊥⍎¨⊃¨(⍕¨('X'⍷⍵)/(36⍴2)⊤⍺)@{'X'⍷⍵}⍵}\n",
    "+⌿(⊃¨{¯1↑⍵}⌸2∘⊃¨)(parsed14) appMasks 36⍴'X'"
   ]
  },
  {
   "cell_type": "markdown",
   "metadata": {},
   "source": [
    "For problem two, we have to mask the addresses, but in a different way (I hope that the operators are correct, but I will see that):\n",
    "* `mask0 ← mask`, but X’s replaced by 0’s\n",
    "* `masks ← vector of mask’s`, but replace ~X’s by 1 and cycle through all possible X’s \n",
    "* `address ∨¨ mask0` is the old address, but every 1 in the mask replaces the value in address\n",
    "* `(address ∨¨ mask0) ∘.∧¨ masks` is the vector of all addresses that are to be written to"
   ]
  },
  {
   "cell_type": "code",
   "execution_count": 416,
   "metadata": {},
   "outputs": [],
   "source": [
    "]dinput\n",
    "appMask2←{ ⍝ ⍺ the address, ⍵ the mask; return all addresses\n",
    "    cntX←+/'X'⍷⍵\n",
    "    size←2*cntX\n",
    "    ⍝ Replace all X’s by 1’s\n",
    "    mask0←'1'@{'X'⍷⍵} ⍵\n",
    "    ⍝ Replace all not-X’s by 1’s:\n",
    "    masks←'1'@{~'X'⍷⍵}⍵\n",
    "    ⍝ Cycle through all X’s:\n",
    "    masks←↓(size 36)⍴(∊,⌿⍕¨(cntX⍴2)⊤⍳(2*cntX))@{'X'⍷⍵}∊(2*cntX)⍴⊂masks\n",
    "    ⍝ newAddr = (addr ∨ mask[X=1]) ∧ changedMask[~X=1]\n",
    "    2⊥¨(⍎¨¨masks) ∧¨ ⊂((36⍴2)⊤⍺) ∨ ⍎¨mask0\n",
    "}"
   ]
  },
  {
   "cell_type": "code",
   "execution_count": 324,
   "metadata": {},
   "outputs": [],
   "source": [
    "]dinput\n",
    "appMasks2←{ ⍝ ⍺ the program, ⍵ the current mask; result is all mem-commands\n",
    "    0=≢⍺: ⍬\n",
    "    cmd←⊃⍺ ⍝ Read the next command\n",
    "    2≠≢cmd: (1↓⍺) ∇ cmd ⍝ mask command\n",
    "    addr val←cmd ⍝ Destructure mem command\n",
    "    (⊂(addr appMask2 ⍵),¨ val) ,((1↓⍺) ∇ ⍵)\n",
    "}"
   ]
  },
  {
   "cell_type": "code",
   "execution_count": 433,
   "metadata": {},
   "outputs": [
    {
     "data": {
      "text/html": [
       "<span style=\"white-space:pre; font-family: monospace\">4215284199669\n",
       "</span>"
      ]
     },
     "execution_count": 433,
     "metadata": {},
     "output_type": "execute_result"
    }
   ],
   "source": [
    "+⌿((∊⊃¨¨){¯1↑⍵}⌸(∊2∘⊃¨¨))(parsed14) appMasks2 36⍴'X'"
   ]
  },
  {
   "cell_type": "markdown",
   "metadata": {},
   "source": [
    "## Day 15"
   ]
  },
  {
   "cell_type": "code",
   "execution_count": 465,
   "metadata": {},
   "outputs": [
    {
     "data": {
      "text/html": [
       "<span style=\"white-space:pre; font-family: monospace\">6 19 0 5 7 13 1\n",
       "</span>"
      ]
     },
     "execution_count": 465,
     "metadata": {},
     "output_type": "execute_result"
    }
   ],
   "source": [
    "⊢input15← ⍎¨',' (≠⊆⊢) ⊃⊃⎕NGET 'day15.txt' 1"
   ]
  },
  {
   "cell_type": "code",
   "execution_count": 462,
   "metadata": {},
   "outputs": [],
   "source": [
    "]dinput\n",
    "day15_1←{ ⍝ ⍺ the number of to-count numbers, ⍵ the numbers up to now (with the first one being the most recent)\n",
    "    ⍺=≢⍵: ⍵ ⍝ No more numbers → the most recent number is the solution\n",
    "    new←(≢⍵)|(1↓⍵)⍳⊃⍵\n",
    "    ⍺∇(new,⍵)\n",
    "}"
   ]
  },
  {
   "cell_type": "code",
   "execution_count": 453,
   "metadata": {},
   "outputs": [
    {
     "data": {
      "text/html": [
       "<span style=\"white-space:pre; font-family: monospace\">5\n",
       "</span>"
      ]
     },
     "execution_count": 453,
     "metadata": {},
     "output_type": "execute_result"
    }
   ],
   "source": [
    "{(≢⍵)|(1↓⍵)⍳⊃⍵}0,⌽input15"
   ]
  },
  {
   "cell_type": "code",
   "execution_count": 467,
   "metadata": {},
   "outputs": [
    {
     "data": {
      "text/html": [
       "<span style=\"white-space:pre; font-family: monospace\">468\n",
       "</span>"
      ]
     },
     "execution_count": 467,
     "metadata": {},
     "output_type": "execute_result"
    }
   ],
   "source": [
    "⊃2020 day15_1 ⌽input15"
   ]
  },
  {
   "cell_type": "code",
   "execution_count": null,
   "metadata": {},
   "outputs": [],
   "source": [
    "30000000 day15_1 ⌽ input15"
   ]
  }
 ],
 "metadata": {
  "kernelspec": {
   "display_name": "Dyalog APL",
   "language": "apl",
   "name": "dyalog-kernel"
  },
  "language_info": {
   "file_extension": ".apl",
   "mimetype": "text/apl",
   "name": "APL"
  }
 },
 "nbformat": 4,
 "nbformat_minor": 4
}
